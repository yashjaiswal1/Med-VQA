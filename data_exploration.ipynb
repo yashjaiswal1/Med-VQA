{
  "nbformat": 4,
  "nbformat_minor": 0,
  "metadata": {
    "colab": {
      "name": "data_exploration.ipynb",
      "provenance": [],
      "collapsed_sections": []
    },
    "kernelspec": {
      "name": "python3",
      "display_name": "Python 3"
    },
    "language_info": {
      "name": "python"
    }
  },
  "cells": [
    {
      "cell_type": "markdown",
      "metadata": {
        "id": "dQiUqxN9824w"
      },
      "source": [
        "# Exploratory Data Analysis"
      ]
    },
    {
      "cell_type": "markdown",
      "metadata": {
        "id": "jtCKLC0g9QA3"
      },
      "source": [
        "##Dependencies\n",
        "1.**numpy**: Used for mathematical operations on array\n",
        "\n",
        "2.**matplotlib**: Plotting library (used for plotting graphs)\n",
        "\n",
        "3.**pandas**: Python Data Analysis Library "
      ]
    },
    {
      "cell_type": "code",
      "metadata": {
        "id": "nCPfEI_4_05b"
      },
      "source": [
        "import os\n",
        "import pandas as pd\n",
        "import matplotlib.pyplot as plt\n",
        "import numpy as np\n",
        "\n",
        "path_QA_pairs  = \"/content/drive/MyDrive/ImageClef-2019-VQA-Med-Training/All_QA_Pairs_train.txt\"\n",
        "path_QA_modality = \"/content/drive/MyDrive/ImageClef-2019-VQA-Med-Training/QAPairsByCategory/C1_Modality_train.txt\"\n",
        "path_QA_plane ='/content/drive/MyDrive/ImageClef-2019-VQA-Med-Training/QAPairsByCategory/C2_Plane_train.txt'\n",
        "path_QA_organ ='/content/drive/MyDrive/ImageClef-2019-VQA-Med-Training/QAPairsByCategory/C3_Organ_train.txt'\n",
        "path_QA_abnormality ='/content/drive/MyDrive/ImageClef-2019-VQA-Med-Training/QAPairsByCategory/C4_Abnormality_train.txt'\n",
        "\n",
        "obj_QA_pairs  = open(path_QA_pairs,  \"r\")\n",
        "obj_QA_modality = open(path_QA_modality, \"r\")\n",
        "obj_QA_plane = open(path_QA_plane, \"r\")\n",
        "obj_QA_organ = open(path_QA_organ, \"r\")\n",
        "obj_QA_abnormality = open(path_QA_abnormality, \"r\")\n",
        "\n"
      ],
      "execution_count": null,
      "outputs": []
    },
    {
      "cell_type": "markdown",
      "metadata": {
        "id": "fBLa8PmI-7_8"
      },
      "source": [
        "##Converting text data to dataframe"
      ]
    },
    {
      "cell_type": "code",
      "metadata": {
        "colab": {
          "base_uri": "https://localhost:8080/",
          "height": 402
        },
        "id": "7EnmxJwwAMSv",
        "outputId": "c332a9b1-32d1-459e-bb68-05a595d76558"
      },
      "source": [
        "df_QA_pairs  = pd.read_csv(path_QA_pairs, error_bad_lines=False, delimiter=\"|\",header=None)\n",
        "df_QA_modality = pd.read_csv(path_QA_modality,error_bad_lines=False, delimiter=\"|\",header=None)\n",
        "df_QA_plane = pd.read_csv(path_QA_plane,error_bad_lines=False, delimiter=\"|\",header=None)\n",
        "df_QA_organ = pd.read_csv(path_QA_organ,error_bad_lines=False, delimiter=\"|\",header=None)\n",
        "df_QA_abnormality = pd.read_csv(path_QA_abnormality,error_bad_lines=False, delimiter=\"|\",header=None)\n",
        "\n",
        "df_QA_pairs"
      ],
      "execution_count": null,
      "outputs": [
        {
          "output_type": "execute_result",
          "data": {
            "text/html": [
              "<div>\n",
              "<style scoped>\n",
              "    .dataframe tbody tr th:only-of-type {\n",
              "        vertical-align: middle;\n",
              "    }\n",
              "\n",
              "    .dataframe tbody tr th {\n",
              "        vertical-align: top;\n",
              "    }\n",
              "\n",
              "    .dataframe thead th {\n",
              "        text-align: right;\n",
              "    }\n",
              "</style>\n",
              "<table border=\"1\" class=\"dataframe\">\n",
              "  <thead>\n",
              "    <tr style=\"text-align: right;\">\n",
              "      <th></th>\n",
              "      <th>0</th>\n",
              "      <th>1</th>\n",
              "      <th>2</th>\n",
              "    </tr>\n",
              "  </thead>\n",
              "  <tbody>\n",
              "    <tr>\n",
              "      <th>0</th>\n",
              "      <td>synpic41148</td>\n",
              "      <td>what kind of image is this?</td>\n",
              "      <td>cta - ct angiography</td>\n",
              "    </tr>\n",
              "    <tr>\n",
              "      <th>1</th>\n",
              "      <td>synpic43984</td>\n",
              "      <td>is this a t1 weighted image?</td>\n",
              "      <td>no</td>\n",
              "    </tr>\n",
              "    <tr>\n",
              "      <th>2</th>\n",
              "      <td>synpic38930</td>\n",
              "      <td>what type of imaging modality is used to acqui...</td>\n",
              "      <td>us - ultrasound</td>\n",
              "    </tr>\n",
              "    <tr>\n",
              "      <th>3</th>\n",
              "      <td>synpic52143</td>\n",
              "      <td>is this a noncontrast mri?</td>\n",
              "      <td>no</td>\n",
              "    </tr>\n",
              "    <tr>\n",
              "      <th>4</th>\n",
              "      <td>synpic20934</td>\n",
              "      <td>what type of image modality is this?</td>\n",
              "      <td>xr - plain film</td>\n",
              "    </tr>\n",
              "    <tr>\n",
              "      <th>...</th>\n",
              "      <td>...</td>\n",
              "      <td>...</td>\n",
              "      <td>...</td>\n",
              "    </tr>\n",
              "    <tr>\n",
              "      <th>12787</th>\n",
              "      <td>synpic35685</td>\n",
              "      <td>is this image normal?</td>\n",
              "      <td>yes</td>\n",
              "    </tr>\n",
              "    <tr>\n",
              "      <th>12788</th>\n",
              "      <td>synpic35687</td>\n",
              "      <td>is there something wrong in the image?</td>\n",
              "      <td>no</td>\n",
              "    </tr>\n",
              "    <tr>\n",
              "      <th>12789</th>\n",
              "      <td>synpic35701</td>\n",
              "      <td>is there evidence of any abnormalities?</td>\n",
              "      <td>no</td>\n",
              "    </tr>\n",
              "    <tr>\n",
              "      <th>12790</th>\n",
              "      <td>synpic48036</td>\n",
              "      <td>is the ct scan normal?</td>\n",
              "      <td>yes</td>\n",
              "    </tr>\n",
              "    <tr>\n",
              "      <th>12791</th>\n",
              "      <td>synpic54897</td>\n",
              "      <td>is there an abnormality in the mri?</td>\n",
              "      <td>no</td>\n",
              "    </tr>\n",
              "  </tbody>\n",
              "</table>\n",
              "<p>12792 rows × 3 columns</p>\n",
              "</div>"
            ],
            "text/plain": [
              "                 0  ...                     2\n",
              "0      synpic41148  ...  cta - ct angiography\n",
              "1      synpic43984  ...                    no\n",
              "2      synpic38930  ...       us - ultrasound\n",
              "3      synpic52143  ...                    no\n",
              "4      synpic20934  ...       xr - plain film\n",
              "...            ...  ...                   ...\n",
              "12787  synpic35685  ...                   yes\n",
              "12788  synpic35687  ...                    no\n",
              "12789  synpic35701  ...                    no\n",
              "12790  synpic48036  ...                   yes\n",
              "12791  synpic54897  ...                    no\n",
              "\n",
              "[12792 rows x 3 columns]"
            ]
          },
          "metadata": {
            "tags": []
          },
          "execution_count": 7
        }
      ]
    },
    {
      "cell_type": "markdown",
      "metadata": {
        "id": "VxGuaqWy_Mrw"
      },
      "source": [
        "##Renaming column names "
      ]
    },
    {
      "cell_type": "code",
      "metadata": {
        "id": "KBef9_KtAkrO"
      },
      "source": [
        "dict_column={0:'id',1:'questions',2:'answers'}\n",
        "df_QA_pairs.rename(columns = dict_column, inplace = True)\n",
        "df_QA_modality.rename(columns = dict_column, inplace = True)\n",
        "df_QA_plane.rename(columns = dict_column, inplace = True)\n",
        "df_QA_organ.rename(columns = dict_column, inplace = True)\n",
        "df_QA_abnormality.rename(columns = dict_column, inplace = True)\n",
        "\n"
      ],
      "execution_count": null,
      "outputs": []
    },
    {
      "cell_type": "code",
      "metadata": {
        "colab": {
          "base_uri": "https://localhost:8080/",
          "height": 402
        },
        "id": "eZiJWifgBNQe",
        "outputId": "1ba768df-0bdc-4d32-9f6d-16b1fba9944c"
      },
      "source": [
        "df_QA_pairs"
      ],
      "execution_count": null,
      "outputs": [
        {
          "output_type": "execute_result",
          "data": {
            "text/html": [
              "<div>\n",
              "<style scoped>\n",
              "    .dataframe tbody tr th:only-of-type {\n",
              "        vertical-align: middle;\n",
              "    }\n",
              "\n",
              "    .dataframe tbody tr th {\n",
              "        vertical-align: top;\n",
              "    }\n",
              "\n",
              "    .dataframe thead th {\n",
              "        text-align: right;\n",
              "    }\n",
              "</style>\n",
              "<table border=\"1\" class=\"dataframe\">\n",
              "  <thead>\n",
              "    <tr style=\"text-align: right;\">\n",
              "      <th></th>\n",
              "      <th>id</th>\n",
              "      <th>questions</th>\n",
              "      <th>answers</th>\n",
              "    </tr>\n",
              "  </thead>\n",
              "  <tbody>\n",
              "    <tr>\n",
              "      <th>0</th>\n",
              "      <td>synpic41148</td>\n",
              "      <td>what kind of image is this?</td>\n",
              "      <td>cta - ct angiography</td>\n",
              "    </tr>\n",
              "    <tr>\n",
              "      <th>1</th>\n",
              "      <td>synpic43984</td>\n",
              "      <td>is this a t1 weighted image?</td>\n",
              "      <td>no</td>\n",
              "    </tr>\n",
              "    <tr>\n",
              "      <th>2</th>\n",
              "      <td>synpic38930</td>\n",
              "      <td>what type of imaging modality is used to acqui...</td>\n",
              "      <td>us - ultrasound</td>\n",
              "    </tr>\n",
              "    <tr>\n",
              "      <th>3</th>\n",
              "      <td>synpic52143</td>\n",
              "      <td>is this a noncontrast mri?</td>\n",
              "      <td>no</td>\n",
              "    </tr>\n",
              "    <tr>\n",
              "      <th>4</th>\n",
              "      <td>synpic20934</td>\n",
              "      <td>what type of image modality is this?</td>\n",
              "      <td>xr - plain film</td>\n",
              "    </tr>\n",
              "    <tr>\n",
              "      <th>...</th>\n",
              "      <td>...</td>\n",
              "      <td>...</td>\n",
              "      <td>...</td>\n",
              "    </tr>\n",
              "    <tr>\n",
              "      <th>12787</th>\n",
              "      <td>synpic35685</td>\n",
              "      <td>is this image normal?</td>\n",
              "      <td>yes</td>\n",
              "    </tr>\n",
              "    <tr>\n",
              "      <th>12788</th>\n",
              "      <td>synpic35687</td>\n",
              "      <td>is there something wrong in the image?</td>\n",
              "      <td>no</td>\n",
              "    </tr>\n",
              "    <tr>\n",
              "      <th>12789</th>\n",
              "      <td>synpic35701</td>\n",
              "      <td>is there evidence of any abnormalities?</td>\n",
              "      <td>no</td>\n",
              "    </tr>\n",
              "    <tr>\n",
              "      <th>12790</th>\n",
              "      <td>synpic48036</td>\n",
              "      <td>is the ct scan normal?</td>\n",
              "      <td>yes</td>\n",
              "    </tr>\n",
              "    <tr>\n",
              "      <th>12791</th>\n",
              "      <td>synpic54897</td>\n",
              "      <td>is there an abnormality in the mri?</td>\n",
              "      <td>no</td>\n",
              "    </tr>\n",
              "  </tbody>\n",
              "</table>\n",
              "<p>12792 rows × 3 columns</p>\n",
              "</div>"
            ],
            "text/plain": [
              "                id  ...               answers\n",
              "0      synpic41148  ...  cta - ct angiography\n",
              "1      synpic43984  ...                    no\n",
              "2      synpic38930  ...       us - ultrasound\n",
              "3      synpic52143  ...                    no\n",
              "4      synpic20934  ...       xr - plain film\n",
              "...            ...  ...                   ...\n",
              "12787  synpic35685  ...                   yes\n",
              "12788  synpic35687  ...                    no\n",
              "12789  synpic35701  ...                    no\n",
              "12790  synpic48036  ...                   yes\n",
              "12791  synpic54897  ...                    no\n",
              "\n",
              "[12792 rows x 3 columns]"
            ]
          },
          "metadata": {
            "tags": []
          },
          "execution_count": 10
        }
      ]
    },
    {
      "cell_type": "markdown",
      "metadata": {
        "id": "t9Za_1TI_Vsu"
      },
      "source": [
        "##Grouped questions with respective to ID"
      ]
    },
    {
      "cell_type": "code",
      "metadata": {
        "colab": {
          "base_uri": "https://localhost:8080/",
          "height": 166
        },
        "id": "p5VCiL_qBOTr",
        "outputId": "586fe5f0-d3c4-4fb4-cd90-713f53349627"
      },
      "source": [
        "def questions(i):\n",
        "  g=df_QA_pairs.groupby('id')\n",
        "  g.first()\n",
        "  question_answer_pairs=g.get_group(i)\n",
        "  return question_answer_pairs\n",
        "questions('synpic100108')\n"
      ],
      "execution_count": null,
      "outputs": [
        {
          "output_type": "execute_result",
          "data": {
            "text/html": [
              "<div>\n",
              "<style scoped>\n",
              "    .dataframe tbody tr th:only-of-type {\n",
              "        vertical-align: middle;\n",
              "    }\n",
              "\n",
              "    .dataframe tbody tr th {\n",
              "        vertical-align: top;\n",
              "    }\n",
              "\n",
              "    .dataframe thead th {\n",
              "        text-align: right;\n",
              "    }\n",
              "</style>\n",
              "<table border=\"1\" class=\"dataframe\">\n",
              "  <thead>\n",
              "    <tr style=\"text-align: right;\">\n",
              "      <th></th>\n",
              "      <th>questions</th>\n",
              "      <th>answers</th>\n",
              "    </tr>\n",
              "  </thead>\n",
              "  <tbody>\n",
              "    <tr>\n",
              "      <th>1287</th>\n",
              "      <td>what modality is used to take this image?</td>\n",
              "      <td>xr - plain film</td>\n",
              "    </tr>\n",
              "    <tr>\n",
              "      <th>4487</th>\n",
              "      <td>what plane is demonstrated?</td>\n",
              "      <td>lateral</td>\n",
              "    </tr>\n",
              "    <tr>\n",
              "      <th>7687</th>\n",
              "      <td>what is the organ system in this image?</td>\n",
              "      <td>breast</td>\n",
              "    </tr>\n",
              "    <tr>\n",
              "      <th>10887</th>\n",
              "      <td>what is abnormal in the x-ray?</td>\n",
              "      <td>topic: lumbar instability: functional and anat...</td>\n",
              "    </tr>\n",
              "  </tbody>\n",
              "</table>\n",
              "</div>"
            ],
            "text/plain": [
              "                                       questions                                            answers\n",
              "1287   what modality is used to take this image?                                    xr - plain film\n",
              "4487                 what plane is demonstrated?                                            lateral\n",
              "7687     what is the organ system in this image?                                             breast\n",
              "10887             what is abnormal in the x-ray?  topic: lumbar instability: functional and anat..."
            ]
          },
          "metadata": {
            "tags": []
          },
          "execution_count": 14
        }
      ]
    },
    {
      "cell_type": "markdown",
      "metadata": {
        "id": "Wn3X24yu_dmy"
      },
      "source": [
        "#Exploring pair training data (text)\n"
      ]
    },
    {
      "cell_type": "markdown",
      "metadata": {
        "id": "qM5gLd1hOU9M"
      },
      "source": [
        "##Modality data"
      ]
    },
    {
      "cell_type": "code",
      "metadata": {
        "colab": {
          "base_uri": "https://localhost:8080/",
          "height": 402
        },
        "id": "4ACsRL6dC2cq",
        "outputId": "cc17246c-a9c3-4e48-bde8-3bfd549cffad"
      },
      "source": [
        "df_QA_modality"
      ],
      "execution_count": null,
      "outputs": [
        {
          "output_type": "execute_result",
          "data": {
            "text/html": [
              "<div>\n",
              "<style scoped>\n",
              "    .dataframe tbody tr th:only-of-type {\n",
              "        vertical-align: middle;\n",
              "    }\n",
              "\n",
              "    .dataframe tbody tr th {\n",
              "        vertical-align: top;\n",
              "    }\n",
              "\n",
              "    .dataframe thead th {\n",
              "        text-align: right;\n",
              "    }\n",
              "</style>\n",
              "<table border=\"1\" class=\"dataframe\">\n",
              "  <thead>\n",
              "    <tr style=\"text-align: right;\">\n",
              "      <th></th>\n",
              "      <th>id</th>\n",
              "      <th>questions</th>\n",
              "      <th>answers</th>\n",
              "    </tr>\n",
              "  </thead>\n",
              "  <tbody>\n",
              "    <tr>\n",
              "      <th>0</th>\n",
              "      <td>synpic41148</td>\n",
              "      <td>what kind of image is this?</td>\n",
              "      <td>cta - ct angiography</td>\n",
              "    </tr>\n",
              "    <tr>\n",
              "      <th>1</th>\n",
              "      <td>synpic43984</td>\n",
              "      <td>is this a t1 weighted image?</td>\n",
              "      <td>no</td>\n",
              "    </tr>\n",
              "    <tr>\n",
              "      <th>2</th>\n",
              "      <td>synpic38930</td>\n",
              "      <td>what type of imaging modality is used to acqui...</td>\n",
              "      <td>us - ultrasound</td>\n",
              "    </tr>\n",
              "    <tr>\n",
              "      <th>3</th>\n",
              "      <td>synpic52143</td>\n",
              "      <td>is this a noncontrast mri?</td>\n",
              "      <td>no</td>\n",
              "    </tr>\n",
              "    <tr>\n",
              "      <th>4</th>\n",
              "      <td>synpic20934</td>\n",
              "      <td>what type of image modality is this?</td>\n",
              "      <td>xr - plain film</td>\n",
              "    </tr>\n",
              "    <tr>\n",
              "      <th>...</th>\n",
              "      <td>...</td>\n",
              "      <td>...</td>\n",
              "      <td>...</td>\n",
              "    </tr>\n",
              "    <tr>\n",
              "      <th>3195</th>\n",
              "      <td>synpic35685</td>\n",
              "      <td>is this a t2 weighted image?</td>\n",
              "      <td>no</td>\n",
              "    </tr>\n",
              "    <tr>\n",
              "      <th>3196</th>\n",
              "      <td>synpic35687</td>\n",
              "      <td>is this a t2 weighted image?</td>\n",
              "      <td>no</td>\n",
              "    </tr>\n",
              "    <tr>\n",
              "      <th>3197</th>\n",
              "      <td>synpic35701</td>\n",
              "      <td>what imaging modality was used to take this im...</td>\n",
              "      <td>mr - t1w - noncontrast</td>\n",
              "    </tr>\n",
              "    <tr>\n",
              "      <th>3198</th>\n",
              "      <td>synpic48036</td>\n",
              "      <td>is this a noncontrast ct?</td>\n",
              "      <td>yes</td>\n",
              "    </tr>\n",
              "    <tr>\n",
              "      <th>3199</th>\n",
              "      <td>synpic54897</td>\n",
              "      <td>is this a ct scan?</td>\n",
              "      <td>no</td>\n",
              "    </tr>\n",
              "  </tbody>\n",
              "</table>\n",
              "<p>3200 rows × 3 columns</p>\n",
              "</div>"
            ],
            "text/plain": [
              "               id  ...                 answers\n",
              "0     synpic41148  ...    cta - ct angiography\n",
              "1     synpic43984  ...                      no\n",
              "2     synpic38930  ...         us - ultrasound\n",
              "3     synpic52143  ...                      no\n",
              "4     synpic20934  ...         xr - plain film\n",
              "...           ...  ...                     ...\n",
              "3195  synpic35685  ...                      no\n",
              "3196  synpic35687  ...                      no\n",
              "3197  synpic35701  ...  mr - t1w - noncontrast\n",
              "3198  synpic48036  ...                     yes\n",
              "3199  synpic54897  ...                      no\n",
              "\n",
              "[3200 rows x 3 columns]"
            ]
          },
          "metadata": {
            "tags": []
          },
          "execution_count": 15
        }
      ]
    },
    {
      "cell_type": "code",
      "metadata": {
        "colab": {
          "base_uri": "https://localhost:8080/"
        },
        "id": "D-a-VzE8O_yh",
        "outputId": "3c450f10-698a-4577-8a66-3a43a7a4d4fb"
      },
      "source": [
        "from google.colab import drive\n",
        "drive.mount('/content/drive')"
      ],
      "execution_count": null,
      "outputs": [
        {
          "output_type": "stream",
          "text": [
            "Drive already mounted at /content/drive; to attempt to forcibly remount, call drive.mount(\"/content/drive\", force_remount=True).\n"
          ],
          "name": "stdout"
        }
      ]
    },
    {
      "cell_type": "markdown",
      "metadata": {
        "id": "mxBNIf40_u6o"
      },
      "source": [
        "##Plane data"
      ]
    },
    {
      "cell_type": "code",
      "metadata": {
        "colab": {
          "base_uri": "https://localhost:8080/",
          "height": 402
        },
        "id": "FEC9Bk31PBrz",
        "outputId": "3aa6a466-2eb1-4f4f-f605-4dbac04a96f1"
      },
      "source": [
        "df_QA_plane"
      ],
      "execution_count": null,
      "outputs": [
        {
          "output_type": "execute_result",
          "data": {
            "text/html": [
              "<div>\n",
              "<style scoped>\n",
              "    .dataframe tbody tr th:only-of-type {\n",
              "        vertical-align: middle;\n",
              "    }\n",
              "\n",
              "    .dataframe tbody tr th {\n",
              "        vertical-align: top;\n",
              "    }\n",
              "\n",
              "    .dataframe thead th {\n",
              "        text-align: right;\n",
              "    }\n",
              "</style>\n",
              "<table border=\"1\" class=\"dataframe\">\n",
              "  <thead>\n",
              "    <tr style=\"text-align: right;\">\n",
              "      <th></th>\n",
              "      <th>id</th>\n",
              "      <th>questions</th>\n",
              "      <th>answers</th>\n",
              "    </tr>\n",
              "  </thead>\n",
              "  <tbody>\n",
              "    <tr>\n",
              "      <th>0</th>\n",
              "      <td>synpic41148</td>\n",
              "      <td>which plane is this image taken?</td>\n",
              "      <td>axial</td>\n",
              "    </tr>\n",
              "    <tr>\n",
              "      <th>1</th>\n",
              "      <td>synpic43984</td>\n",
              "      <td>which plane is this image taken?</td>\n",
              "      <td>axial</td>\n",
              "    </tr>\n",
              "    <tr>\n",
              "      <th>2</th>\n",
              "      <td>synpic38930</td>\n",
              "      <td>what plane is this ultrasound in?</td>\n",
              "      <td>longitudinal</td>\n",
              "    </tr>\n",
              "    <tr>\n",
              "      <th>3</th>\n",
              "      <td>synpic52143</td>\n",
              "      <td>which plane is the image shown in?</td>\n",
              "      <td>coronal</td>\n",
              "    </tr>\n",
              "    <tr>\n",
              "      <th>4</th>\n",
              "      <td>synpic20934</td>\n",
              "      <td>in what plane is this x-ray?</td>\n",
              "      <td>lateral</td>\n",
              "    </tr>\n",
              "    <tr>\n",
              "      <th>...</th>\n",
              "      <td>...</td>\n",
              "      <td>...</td>\n",
              "      <td>...</td>\n",
              "    </tr>\n",
              "    <tr>\n",
              "      <th>3195</th>\n",
              "      <td>synpic35685</td>\n",
              "      <td>in what plane is this mri?</td>\n",
              "      <td>sagittal</td>\n",
              "    </tr>\n",
              "    <tr>\n",
              "      <th>3196</th>\n",
              "      <td>synpic35687</td>\n",
              "      <td>which plane is this image in?</td>\n",
              "      <td>sagittal</td>\n",
              "    </tr>\n",
              "    <tr>\n",
              "      <th>3197</th>\n",
              "      <td>synpic35701</td>\n",
              "      <td>what is the plane of the image?</td>\n",
              "      <td>sagittal</td>\n",
              "    </tr>\n",
              "    <tr>\n",
              "      <th>3198</th>\n",
              "      <td>synpic48036</td>\n",
              "      <td>what imaging plane is depicted here?</td>\n",
              "      <td>axial</td>\n",
              "    </tr>\n",
              "    <tr>\n",
              "      <th>3199</th>\n",
              "      <td>synpic54897</td>\n",
              "      <td>what plane was used in this mri?</td>\n",
              "      <td>sagittal</td>\n",
              "    </tr>\n",
              "  </tbody>\n",
              "</table>\n",
              "<p>3200 rows × 3 columns</p>\n",
              "</div>"
            ],
            "text/plain": [
              "               id                             questions       answers\n",
              "0     synpic41148      which plane is this image taken?         axial\n",
              "1     synpic43984      which plane is this image taken?         axial\n",
              "2     synpic38930     what plane is this ultrasound in?  longitudinal\n",
              "3     synpic52143    which plane is the image shown in?       coronal\n",
              "4     synpic20934          in what plane is this x-ray?       lateral\n",
              "...           ...                                   ...           ...\n",
              "3195  synpic35685            in what plane is this mri?      sagittal\n",
              "3196  synpic35687         which plane is this image in?      sagittal\n",
              "3197  synpic35701       what is the plane of the image?      sagittal\n",
              "3198  synpic48036  what imaging plane is depicted here?         axial\n",
              "3199  synpic54897      what plane was used in this mri?      sagittal\n",
              "\n",
              "[3200 rows x 3 columns]"
            ]
          },
          "metadata": {
            "tags": []
          },
          "execution_count": 17
        }
      ]
    },
    {
      "cell_type": "markdown",
      "metadata": {
        "id": "LGmpkdpo_zO3"
      },
      "source": [
        "##Organ data"
      ]
    },
    {
      "cell_type": "code",
      "metadata": {
        "colab": {
          "base_uri": "https://localhost:8080/",
          "height": 402
        },
        "id": "98wgaFllRCFO",
        "outputId": "632725bf-1086-4d5b-e087-6507211a0192"
      },
      "source": [
        "df_QA_organ"
      ],
      "execution_count": null,
      "outputs": [
        {
          "output_type": "execute_result",
          "data": {
            "text/html": [
              "<div>\n",
              "<style scoped>\n",
              "    .dataframe tbody tr th:only-of-type {\n",
              "        vertical-align: middle;\n",
              "    }\n",
              "\n",
              "    .dataframe tbody tr th {\n",
              "        vertical-align: top;\n",
              "    }\n",
              "\n",
              "    .dataframe thead th {\n",
              "        text-align: right;\n",
              "    }\n",
              "</style>\n",
              "<table border=\"1\" class=\"dataframe\">\n",
              "  <thead>\n",
              "    <tr style=\"text-align: right;\">\n",
              "      <th></th>\n",
              "      <th>id</th>\n",
              "      <th>questions</th>\n",
              "      <th>answers</th>\n",
              "    </tr>\n",
              "  </thead>\n",
              "  <tbody>\n",
              "    <tr>\n",
              "      <th>0</th>\n",
              "      <td>synpic41148</td>\n",
              "      <td>which organ is captured by this ct scan?</td>\n",
              "      <td>lung, mediastinum, pleura</td>\n",
              "    </tr>\n",
              "    <tr>\n",
              "      <th>1</th>\n",
              "      <td>synpic43984</td>\n",
              "      <td>what organ system is primarily present in this...</td>\n",
              "      <td>skull and contents</td>\n",
              "    </tr>\n",
              "    <tr>\n",
              "      <th>2</th>\n",
              "      <td>synpic38930</td>\n",
              "      <td>which organ system is imaged?</td>\n",
              "      <td>genitourinary</td>\n",
              "    </tr>\n",
              "    <tr>\n",
              "      <th>3</th>\n",
              "      <td>synpic52143</td>\n",
              "      <td>the mri shows what organ system?</td>\n",
              "      <td>spine and contents</td>\n",
              "    </tr>\n",
              "    <tr>\n",
              "      <th>4</th>\n",
              "      <td>synpic20934</td>\n",
              "      <td>what organ system is shown in this x-ray?</td>\n",
              "      <td>spine and contents</td>\n",
              "    </tr>\n",
              "    <tr>\n",
              "      <th>...</th>\n",
              "      <td>...</td>\n",
              "      <td>...</td>\n",
              "      <td>...</td>\n",
              "    </tr>\n",
              "    <tr>\n",
              "      <th>3195</th>\n",
              "      <td>synpic35685</td>\n",
              "      <td>what organ is this mri showing?</td>\n",
              "      <td>heart and great vessels</td>\n",
              "    </tr>\n",
              "    <tr>\n",
              "      <th>3196</th>\n",
              "      <td>synpic35687</td>\n",
              "      <td>what organ system is shown in the image?</td>\n",
              "      <td>heart and great vessels</td>\n",
              "    </tr>\n",
              "    <tr>\n",
              "      <th>3197</th>\n",
              "      <td>synpic35701</td>\n",
              "      <td>what organ system is displayed in this mri?</td>\n",
              "      <td>heart and great vessels</td>\n",
              "    </tr>\n",
              "    <tr>\n",
              "      <th>3198</th>\n",
              "      <td>synpic48036</td>\n",
              "      <td>which organ system is shown in the ct scan?</td>\n",
              "      <td>skull and contents</td>\n",
              "    </tr>\n",
              "    <tr>\n",
              "      <th>3199</th>\n",
              "      <td>synpic54897</td>\n",
              "      <td>what organ system is displayed in this mri?</td>\n",
              "      <td>skull and contents</td>\n",
              "    </tr>\n",
              "  </tbody>\n",
              "</table>\n",
              "<p>3200 rows × 3 columns</p>\n",
              "</div>"
            ],
            "text/plain": [
              "               id  ...                    answers\n",
              "0     synpic41148  ...  lung, mediastinum, pleura\n",
              "1     synpic43984  ...         skull and contents\n",
              "2     synpic38930  ...              genitourinary\n",
              "3     synpic52143  ...         spine and contents\n",
              "4     synpic20934  ...         spine and contents\n",
              "...           ...  ...                        ...\n",
              "3195  synpic35685  ...    heart and great vessels\n",
              "3196  synpic35687  ...    heart and great vessels\n",
              "3197  synpic35701  ...    heart and great vessels\n",
              "3198  synpic48036  ...         skull and contents\n",
              "3199  synpic54897  ...         skull and contents\n",
              "\n",
              "[3200 rows x 3 columns]"
            ]
          },
          "metadata": {
            "tags": []
          },
          "execution_count": 18
        }
      ]
    },
    {
      "cell_type": "markdown",
      "metadata": {
        "id": "5AcaE2zX_1bw"
      },
      "source": [
        "##Abnormality data"
      ]
    },
    {
      "cell_type": "code",
      "metadata": {
        "colab": {
          "base_uri": "https://localhost:8080/",
          "height": 402
        },
        "id": "9qS5OhaLRE3s",
        "outputId": "322ab509-69e4-4aab-ee52-f724ad61536b"
      },
      "source": [
        "df_QA_abnormality"
      ],
      "execution_count": null,
      "outputs": [
        {
          "output_type": "execute_result",
          "data": {
            "text/html": [
              "<div>\n",
              "<style scoped>\n",
              "    .dataframe tbody tr th:only-of-type {\n",
              "        vertical-align: middle;\n",
              "    }\n",
              "\n",
              "    .dataframe tbody tr th {\n",
              "        vertical-align: top;\n",
              "    }\n",
              "\n",
              "    .dataframe thead th {\n",
              "        text-align: right;\n",
              "    }\n",
              "</style>\n",
              "<table border=\"1\" class=\"dataframe\">\n",
              "  <thead>\n",
              "    <tr style=\"text-align: right;\">\n",
              "      <th></th>\n",
              "      <th>id</th>\n",
              "      <th>questions</th>\n",
              "      <th>answers</th>\n",
              "    </tr>\n",
              "  </thead>\n",
              "  <tbody>\n",
              "    <tr>\n",
              "      <th>0</th>\n",
              "      <td>synpic41148</td>\n",
              "      <td>what is abnormal in the ct scan?</td>\n",
              "      <td>cryptococcal pneumonia in an immunocompetent host</td>\n",
              "    </tr>\n",
              "    <tr>\n",
              "      <th>1</th>\n",
              "      <td>synpic43984</td>\n",
              "      <td>what abnormality is seen in the image?</td>\n",
              "      <td>arteriovenous malformation (avm)</td>\n",
              "    </tr>\n",
              "    <tr>\n",
              "      <th>2</th>\n",
              "      <td>synpic38930</td>\n",
              "      <td>what is the primary abnormality in this image?</td>\n",
              "      <td>ectopic pregnancy</td>\n",
              "    </tr>\n",
              "    <tr>\n",
              "      <th>3</th>\n",
              "      <td>synpic52143</td>\n",
              "      <td>what is the primary abnormality in this image?</td>\n",
              "      <td>bone tumor/ chordoma</td>\n",
              "    </tr>\n",
              "    <tr>\n",
              "      <th>4</th>\n",
              "      <td>synpic20934</td>\n",
              "      <td>what is the primary abnormality in this image?</td>\n",
              "      <td>burst fracture</td>\n",
              "    </tr>\n",
              "    <tr>\n",
              "      <th>...</th>\n",
              "      <td>...</td>\n",
              "      <td>...</td>\n",
              "      <td>...</td>\n",
              "    </tr>\n",
              "    <tr>\n",
              "      <th>3187</th>\n",
              "      <td>synpic35685</td>\n",
              "      <td>is this image normal?</td>\n",
              "      <td>yes</td>\n",
              "    </tr>\n",
              "    <tr>\n",
              "      <th>3188</th>\n",
              "      <td>synpic35687</td>\n",
              "      <td>is there something wrong in the image?</td>\n",
              "      <td>no</td>\n",
              "    </tr>\n",
              "    <tr>\n",
              "      <th>3189</th>\n",
              "      <td>synpic35701</td>\n",
              "      <td>is there evidence of any abnormalities?</td>\n",
              "      <td>no</td>\n",
              "    </tr>\n",
              "    <tr>\n",
              "      <th>3190</th>\n",
              "      <td>synpic48036</td>\n",
              "      <td>is the ct scan normal?</td>\n",
              "      <td>yes</td>\n",
              "    </tr>\n",
              "    <tr>\n",
              "      <th>3191</th>\n",
              "      <td>synpic54897</td>\n",
              "      <td>is there an abnormality in the mri?</td>\n",
              "      <td>no</td>\n",
              "    </tr>\n",
              "  </tbody>\n",
              "</table>\n",
              "<p>3192 rows × 3 columns</p>\n",
              "</div>"
            ],
            "text/plain": [
              "               id  ...                                            answers\n",
              "0     synpic41148  ...  cryptococcal pneumonia in an immunocompetent host\n",
              "1     synpic43984  ...                   arteriovenous malformation (avm)\n",
              "2     synpic38930  ...                                  ectopic pregnancy\n",
              "3     synpic52143  ...                               bone tumor/ chordoma\n",
              "4     synpic20934  ...                                     burst fracture\n",
              "...           ...  ...                                                ...\n",
              "3187  synpic35685  ...                                                yes\n",
              "3188  synpic35687  ...                                                 no\n",
              "3189  synpic35701  ...                                                 no\n",
              "3190  synpic48036  ...                                                yes\n",
              "3191  synpic54897  ...                                                 no\n",
              "\n",
              "[3192 rows x 3 columns]"
            ]
          },
          "metadata": {
            "tags": []
          },
          "execution_count": 19
        }
      ]
    },
    {
      "cell_type": "markdown",
      "metadata": {
        "id": "RRSCAW41_4_E"
      },
      "source": [
        "##Showing distribution of different categories present in dataset"
      ]
    },
    {
      "cell_type": "code",
      "metadata": {
        "id": "tLfRuVz-RIwV"
      },
      "source": [
        "len_modality=len(df_QA_modality)\n",
        "len_plane=len(df_QA_plane)\n",
        "len_organ=len(df_QA_organ)\n",
        "len_abnormality=len(df_QA_abnormality)\n"
      ],
      "execution_count": null,
      "outputs": []
    },
    {
      "cell_type": "code",
      "metadata": {
        "id": "n5jB7lwKRVyk"
      },
      "source": [
        "y=np.array([len_modality,len_plane,len_organ,len_abnormality])\n",
        "mylabels=['modality','plane','organ','abnormality']\n"
      ],
      "execution_count": null,
      "outputs": []
    },
    {
      "cell_type": "code",
      "metadata": {
        "colab": {
          "base_uri": "https://localhost:8080/",
          "height": 297
        },
        "id": "sqpNHCelTsRJ",
        "outputId": "af975aaf-3aa0-4b2f-c620-0d1a269ca045"
      },
      "source": [
        "plt.pie(y,labels=mylabels,startangle=90, shadow=False, wedgeprops={\"edgecolor\":\"1\",'linewidth': 3, 'antialiased': True})\n",
        "plt.title(\"Category-wise QA Distribution\")\n",
        "plt.axis('equal')\n",
        "plt.tight_layout()\n",
        "plt.show() "
      ],
      "execution_count": null,
      "outputs": [
        {
          "output_type": "display_data",
          "data": {
            "image/png": "[encoded data removed]",
            "text/plain": [
              "<Figure size 432x288 with 1 Axes>"
            ]
          },
          "metadata": {
            "tags": []
          }
        }
      ]
    },
    {
      "cell_type": "markdown",
      "metadata": {
        "id": "AUAorzoAAMBW"
      },
      "source": [
        "##Representation of abnormality data"
      ]
    },
    {
      "cell_type": "code",
      "metadata": {
        "colab": {
          "base_uri": "https://localhost:8080/",
          "height": 402
        },
        "id": "zTsHA27gYwjy",
        "outputId": "130d80df-cb1b-49b5-e8f4-3e711e582df8"
      },
      "source": [
        "df_QA_abnormality"
      ],
      "execution_count": null,
      "outputs": [
        {
          "output_type": "execute_result",
          "data": {
            "text/html": [
              "<div>\n",
              "<style scoped>\n",
              "    .dataframe tbody tr th:only-of-type {\n",
              "        vertical-align: middle;\n",
              "    }\n",
              "\n",
              "    .dataframe tbody tr th {\n",
              "        vertical-align: top;\n",
              "    }\n",
              "\n",
              "    .dataframe thead th {\n",
              "        text-align: right;\n",
              "    }\n",
              "</style>\n",
              "<table border=\"1\" class=\"dataframe\">\n",
              "  <thead>\n",
              "    <tr style=\"text-align: right;\">\n",
              "      <th></th>\n",
              "      <th>id</th>\n",
              "      <th>questions</th>\n",
              "      <th>answers</th>\n",
              "    </tr>\n",
              "  </thead>\n",
              "  <tbody>\n",
              "    <tr>\n",
              "      <th>0</th>\n",
              "      <td>synpic41148</td>\n",
              "      <td>what is abnormal in the ct scan?</td>\n",
              "      <td>cryptococcal pneumonia in an immunocompetent host</td>\n",
              "    </tr>\n",
              "    <tr>\n",
              "      <th>1</th>\n",
              "      <td>synpic43984</td>\n",
              "      <td>what abnormality is seen in the image?</td>\n",
              "      <td>arteriovenous malformation (avm)</td>\n",
              "    </tr>\n",
              "    <tr>\n",
              "      <th>2</th>\n",
              "      <td>synpic38930</td>\n",
              "      <td>what is the primary abnormality in this image?</td>\n",
              "      <td>ectopic pregnancy</td>\n",
              "    </tr>\n",
              "    <tr>\n",
              "      <th>3</th>\n",
              "      <td>synpic52143</td>\n",
              "      <td>what is the primary abnormality in this image?</td>\n",
              "      <td>bone tumor/ chordoma</td>\n",
              "    </tr>\n",
              "    <tr>\n",
              "      <th>4</th>\n",
              "      <td>synpic20934</td>\n",
              "      <td>what is the primary abnormality in this image?</td>\n",
              "      <td>burst fracture</td>\n",
              "    </tr>\n",
              "    <tr>\n",
              "      <th>...</th>\n",
              "      <td>...</td>\n",
              "      <td>...</td>\n",
              "      <td>...</td>\n",
              "    </tr>\n",
              "    <tr>\n",
              "      <th>3187</th>\n",
              "      <td>synpic35685</td>\n",
              "      <td>is this image normal?</td>\n",
              "      <td>yes</td>\n",
              "    </tr>\n",
              "    <tr>\n",
              "      <th>3188</th>\n",
              "      <td>synpic35687</td>\n",
              "      <td>is there something wrong in the image?</td>\n",
              "      <td>no</td>\n",
              "    </tr>\n",
              "    <tr>\n",
              "      <th>3189</th>\n",
              "      <td>synpic35701</td>\n",
              "      <td>is there evidence of any abnormalities?</td>\n",
              "      <td>no</td>\n",
              "    </tr>\n",
              "    <tr>\n",
              "      <th>3190</th>\n",
              "      <td>synpic48036</td>\n",
              "      <td>is the ct scan normal?</td>\n",
              "      <td>yes</td>\n",
              "    </tr>\n",
              "    <tr>\n",
              "      <th>3191</th>\n",
              "      <td>synpic54897</td>\n",
              "      <td>is there an abnormality in the mri?</td>\n",
              "      <td>no</td>\n",
              "    </tr>\n",
              "  </tbody>\n",
              "</table>\n",
              "<p>3192 rows × 3 columns</p>\n",
              "</div>"
            ],
            "text/plain": [
              "               id  ...                                            answers\n",
              "0     synpic41148  ...  cryptococcal pneumonia in an immunocompetent host\n",
              "1     synpic43984  ...                   arteriovenous malformation (avm)\n",
              "2     synpic38930  ...                                  ectopic pregnancy\n",
              "3     synpic52143  ...                               bone tumor/ chordoma\n",
              "4     synpic20934  ...                                     burst fracture\n",
              "...           ...  ...                                                ...\n",
              "3187  synpic35685  ...                                                yes\n",
              "3188  synpic35687  ...                                                 no\n",
              "3189  synpic35701  ...                                                 no\n",
              "3190  synpic48036  ...                                                yes\n",
              "3191  synpic54897  ...                                                 no\n",
              "\n",
              "[3192 rows x 3 columns]"
            ]
          },
          "metadata": {
            "tags": []
          },
          "execution_count": 23
        }
      ]
    },
    {
      "cell_type": "code",
      "metadata": {
        "id": "zakVNjQcaxL9"
      },
      "source": [
        "count_abnormality=0\n",
        "count_abnormality_type=0\n",
        "answers=['yes','no']\n",
        "\n",
        "#df.index[df[''] == i].tolist()\n",
        "df_QA_abnormality['answers']\n",
        "for i in df_QA_abnormality['answers']:\n",
        "  if i in answers:\n",
        "    count_abnormality=count_abnormality+1\n",
        "  else:\n",
        "    count_abnormality_type=count_abnormality_type+1\n",
        "\n"
      ],
      "execution_count": null,
      "outputs": []
    },
    {
      "cell_type": "code",
      "metadata": {
        "colab": {
          "base_uri": "https://localhost:8080/",
          "height": 248
        },
        "id": "tH2ElCoWa6Lu",
        "outputId": "0268e2e8-7dd6-442e-b6b0-519b6aa1e888"
      },
      "source": [
        "y1=np.array([count_abnormality,count_abnormality_type])\n",
        "mylabel=['existance of abnormalities(yes/no)','abnormality type']\n",
        "plt.pie(y1,labels=mylabel)\n",
        "plt.show()"
      ],
      "execution_count": null,
      "outputs": [
        {
          "output_type": "display_data",
          "data": {
            "image/png": "[encoded data removed]",
            "text/plain": [
              "<Figure size 432x288 with 1 Axes>"
            ]
          },
          "metadata": {
            "tags": []
          }
        }
      ]
    },
    {
      "cell_type": "markdown",
      "metadata": {
        "id": "47OSIpguAeBL"
      },
      "source": [
        "##Distribution of in Organ data"
      ]
    },
    {
      "cell_type": "code",
      "metadata": {
        "colab": {
          "base_uri": "https://localhost:8080/",
          "height": 402
        },
        "id": "KrzC41CNcVG6",
        "outputId": "73c12960-44fc-4755-99ee-c7a953e3a294"
      },
      "source": [
        "df_QA_organ"
      ],
      "execution_count": null,
      "outputs": [
        {
          "output_type": "execute_result",
          "data": {
            "text/html": [
              "<div>\n",
              "<style scoped>\n",
              "    .dataframe tbody tr th:only-of-type {\n",
              "        vertical-align: middle;\n",
              "    }\n",
              "\n",
              "    .dataframe tbody tr th {\n",
              "        vertical-align: top;\n",
              "    }\n",
              "\n",
              "    .dataframe thead th {\n",
              "        text-align: right;\n",
              "    }\n",
              "</style>\n",
              "<table border=\"1\" class=\"dataframe\">\n",
              "  <thead>\n",
              "    <tr style=\"text-align: right;\">\n",
              "      <th></th>\n",
              "      <th>id</th>\n",
              "      <th>questions</th>\n",
              "      <th>answers</th>\n",
              "    </tr>\n",
              "  </thead>\n",
              "  <tbody>\n",
              "    <tr>\n",
              "      <th>0</th>\n",
              "      <td>synpic41148</td>\n",
              "      <td>which organ is captured by this ct scan?</td>\n",
              "      <td>lung, mediastinum, pleura</td>\n",
              "    </tr>\n",
              "    <tr>\n",
              "      <th>1</th>\n",
              "      <td>synpic43984</td>\n",
              "      <td>what organ system is primarily present in this...</td>\n",
              "      <td>skull and contents</td>\n",
              "    </tr>\n",
              "    <tr>\n",
              "      <th>2</th>\n",
              "      <td>synpic38930</td>\n",
              "      <td>which organ system is imaged?</td>\n",
              "      <td>genitourinary</td>\n",
              "    </tr>\n",
              "    <tr>\n",
              "      <th>3</th>\n",
              "      <td>synpic52143</td>\n",
              "      <td>the mri shows what organ system?</td>\n",
              "      <td>spine and contents</td>\n",
              "    </tr>\n",
              "    <tr>\n",
              "      <th>4</th>\n",
              "      <td>synpic20934</td>\n",
              "      <td>what organ system is shown in this x-ray?</td>\n",
              "      <td>spine and contents</td>\n",
              "    </tr>\n",
              "    <tr>\n",
              "      <th>...</th>\n",
              "      <td>...</td>\n",
              "      <td>...</td>\n",
              "      <td>...</td>\n",
              "    </tr>\n",
              "    <tr>\n",
              "      <th>3195</th>\n",
              "      <td>synpic35685</td>\n",
              "      <td>what organ is this mri showing?</td>\n",
              "      <td>heart and great vessels</td>\n",
              "    </tr>\n",
              "    <tr>\n",
              "      <th>3196</th>\n",
              "      <td>synpic35687</td>\n",
              "      <td>what organ system is shown in the image?</td>\n",
              "      <td>heart and great vessels</td>\n",
              "    </tr>\n",
              "    <tr>\n",
              "      <th>3197</th>\n",
              "      <td>synpic35701</td>\n",
              "      <td>what organ system is displayed in this mri?</td>\n",
              "      <td>heart and great vessels</td>\n",
              "    </tr>\n",
              "    <tr>\n",
              "      <th>3198</th>\n",
              "      <td>synpic48036</td>\n",
              "      <td>which organ system is shown in the ct scan?</td>\n",
              "      <td>skull and contents</td>\n",
              "    </tr>\n",
              "    <tr>\n",
              "      <th>3199</th>\n",
              "      <td>synpic54897</td>\n",
              "      <td>what organ system is displayed in this mri?</td>\n",
              "      <td>skull and contents</td>\n",
              "    </tr>\n",
              "  </tbody>\n",
              "</table>\n",
              "<p>3200 rows × 3 columns</p>\n",
              "</div>"
            ],
            "text/plain": [
              "               id  ...                    answers\n",
              "0     synpic41148  ...  lung, mediastinum, pleura\n",
              "1     synpic43984  ...         skull and contents\n",
              "2     synpic38930  ...              genitourinary\n",
              "3     synpic52143  ...         spine and contents\n",
              "4     synpic20934  ...         spine and contents\n",
              "...           ...  ...                        ...\n",
              "3195  synpic35685  ...    heart and great vessels\n",
              "3196  synpic35687  ...    heart and great vessels\n",
              "3197  synpic35701  ...    heart and great vessels\n",
              "3198  synpic48036  ...         skull and contents\n",
              "3199  synpic54897  ...         skull and contents\n",
              "\n",
              "[3200 rows x 3 columns]"
            ]
          },
          "metadata": {
            "tags": []
          },
          "execution_count": 26
        }
      ]
    },
    {
      "cell_type": "code",
      "metadata": {
        "id": "5gpjDiyQfCf5"
      },
      "source": [
        "skull_and_contents_count=0\n",
        "musculoskeletal_count=0\n",
        "spine_and_contents_count=0\n",
        "gastrointestinal_count=0\n",
        "lung_mediastinum_pleura_count=0\n",
        "genitourinary_count=0\n",
        "face_sinuses_and_neck_count=0\n",
        "vascular_and_lymphatic_count=0\n",
        "heart_and_great_vessels_count=0\n",
        "breast_count=0\n",
        "\n",
        "\n",
        "for i in df_QA_organ['answers']:\n",
        "  if i=='skull and contents':\n",
        "    skull_and_contents_count=skull_and_contents_count+1\n",
        "  elif i=='musculoskeletal':\n",
        "    musculoskeletal_count=musculoskeletal_count+1\n",
        "  elif i=='spine and contents':\n",
        "    spine_and_contents_count=spine_and_contents_count+1\n",
        "  elif i=='gastrointestinal':\n",
        "    gastrointestinal_count=gastrointestinal_count+1\n",
        "  elif i=='lung, mediastinum, pleura':\n",
        "    lung_mediastinum_pleura_count=lung_mediastinum_pleura_count+1\n",
        "  elif i=='genitourinary':\n",
        "    genitourinary_count=genitourinary_count+1\n",
        "  elif i=='face, sinuses, and neck':\n",
        "    face_sinuses_and_neck_count=face_sinuses_and_neck_count+1\n",
        "  elif i=='vascular and lymphatic':\n",
        "    vascular_and_lymphatic_count=vascular_and_lymphatic_count+1\n",
        "  elif i=='heart and great vessels':\n",
        "    heart_and_great_vessels_count=heart_and_great_vessels_count+1\n",
        "  elif i=='breast':\n",
        "    breast_count=breast_count+1"
      ],
      "execution_count": null,
      "outputs": []
    },
    {
      "cell_type": "code",
      "metadata": {
        "colab": {
          "base_uri": "https://localhost:8080/",
          "height": 458
        },
        "id": "EBuOgWkvgETD",
        "outputId": "371563ff-cf49-4d34-b416-da04a20d1862"
      },
      "source": [
        "fig = plt.figure()\n",
        "ax = fig.add_axes([0,0,1,1])\n",
        "types = ['skull and contents','musculoskeletal','spine and contents','gastrointestinal','lung, mediastinum, pleura','genitourinary','face, sinuses, and neck','vascular and lymphatic','heart and great vessels','breast']\n",
        "values = [skull_and_contents_count,musculoskeletal_count,spine_and_contents_count,gastrointestinal_count,lung_mediastinum_pleura_count,genitourinary_count,face_sinuses_and_neck_count,vascular_and_lymphatic_count,heart_and_great_vessels_count,breast_count]\n",
        "ax.bar(types,values)\n",
        "plt.xticks(rotation='vertical')\n",
        "plt.show()"
      ],
      "execution_count": null,
      "outputs": [
        {
          "output_type": "display_data",
          "data": {
            "image/png": "[encoded data removed]",
            "text/plain": [
              "<Figure size 432x288 with 1 Axes>"
            ]
          },
          "metadata": {
            "tags": [],
            "needs_background": "light"
          }
        }
      ]
    },
    {
      "cell_type": "markdown",
      "metadata": {
        "id": "2lgrOIpgAqr5"
      },
      "source": [
        "##Distribution of plane data"
      ]
    },
    {
      "cell_type": "code",
      "metadata": {
        "id": "gECZyX_dmIis",
        "colab": {
          "base_uri": "https://localhost:8080/",
          "height": 402
        },
        "outputId": "05c23122-917e-4329-d251-1bb113888023"
      },
      "source": [
        "df_QA_plane"
      ],
      "execution_count": null,
      "outputs": [
        {
          "output_type": "execute_result",
          "data": {
            "text/html": [
              "<div>\n",
              "<style scoped>\n",
              "    .dataframe tbody tr th:only-of-type {\n",
              "        vertical-align: middle;\n",
              "    }\n",
              "\n",
              "    .dataframe tbody tr th {\n",
              "        vertical-align: top;\n",
              "    }\n",
              "\n",
              "    .dataframe thead th {\n",
              "        text-align: right;\n",
              "    }\n",
              "</style>\n",
              "<table border=\"1\" class=\"dataframe\">\n",
              "  <thead>\n",
              "    <tr style=\"text-align: right;\">\n",
              "      <th></th>\n",
              "      <th>id</th>\n",
              "      <th>questions</th>\n",
              "      <th>answers</th>\n",
              "    </tr>\n",
              "  </thead>\n",
              "  <tbody>\n",
              "    <tr>\n",
              "      <th>0</th>\n",
              "      <td>synpic41148</td>\n",
              "      <td>which plane is this image taken?</td>\n",
              "      <td>axial</td>\n",
              "    </tr>\n",
              "    <tr>\n",
              "      <th>1</th>\n",
              "      <td>synpic43984</td>\n",
              "      <td>which plane is this image taken?</td>\n",
              "      <td>axial</td>\n",
              "    </tr>\n",
              "    <tr>\n",
              "      <th>2</th>\n",
              "      <td>synpic38930</td>\n",
              "      <td>what plane is this ultrasound in?</td>\n",
              "      <td>longitudinal</td>\n",
              "    </tr>\n",
              "    <tr>\n",
              "      <th>3</th>\n",
              "      <td>synpic52143</td>\n",
              "      <td>which plane is the image shown in?</td>\n",
              "      <td>coronal</td>\n",
              "    </tr>\n",
              "    <tr>\n",
              "      <th>4</th>\n",
              "      <td>synpic20934</td>\n",
              "      <td>in what plane is this x-ray?</td>\n",
              "      <td>lateral</td>\n",
              "    </tr>\n",
              "    <tr>\n",
              "      <th>...</th>\n",
              "      <td>...</td>\n",
              "      <td>...</td>\n",
              "      <td>...</td>\n",
              "    </tr>\n",
              "    <tr>\n",
              "      <th>3195</th>\n",
              "      <td>synpic35685</td>\n",
              "      <td>in what plane is this mri?</td>\n",
              "      <td>sagittal</td>\n",
              "    </tr>\n",
              "    <tr>\n",
              "      <th>3196</th>\n",
              "      <td>synpic35687</td>\n",
              "      <td>which plane is this image in?</td>\n",
              "      <td>sagittal</td>\n",
              "    </tr>\n",
              "    <tr>\n",
              "      <th>3197</th>\n",
              "      <td>synpic35701</td>\n",
              "      <td>what is the plane of the image?</td>\n",
              "      <td>sagittal</td>\n",
              "    </tr>\n",
              "    <tr>\n",
              "      <th>3198</th>\n",
              "      <td>synpic48036</td>\n",
              "      <td>what imaging plane is depicted here?</td>\n",
              "      <td>axial</td>\n",
              "    </tr>\n",
              "    <tr>\n",
              "      <th>3199</th>\n",
              "      <td>synpic54897</td>\n",
              "      <td>what plane was used in this mri?</td>\n",
              "      <td>sagittal</td>\n",
              "    </tr>\n",
              "  </tbody>\n",
              "</table>\n",
              "<p>3200 rows × 3 columns</p>\n",
              "</div>"
            ],
            "text/plain": [
              "               id                             questions       answers\n",
              "0     synpic41148      which plane is this image taken?         axial\n",
              "1     synpic43984      which plane is this image taken?         axial\n",
              "2     synpic38930     what plane is this ultrasound in?  longitudinal\n",
              "3     synpic52143    which plane is the image shown in?       coronal\n",
              "4     synpic20934          in what plane is this x-ray?       lateral\n",
              "...           ...                                   ...           ...\n",
              "3195  synpic35685            in what plane is this mri?      sagittal\n",
              "3196  synpic35687         which plane is this image in?      sagittal\n",
              "3197  synpic35701       what is the plane of the image?      sagittal\n",
              "3198  synpic48036  what imaging plane is depicted here?         axial\n",
              "3199  synpic54897      what plane was used in this mri?      sagittal\n",
              "\n",
              "[3200 rows x 3 columns]"
            ]
          },
          "metadata": {
            "tags": []
          },
          "execution_count": 29
        }
      ]
    },
    {
      "cell_type": "code",
      "metadata": {
        "id": "UJyb7b0k96NY"
      },
      "source": [
        "axial_count=0\n",
        "longitudinal_count=0\n",
        "coronal_count=0\n",
        "lateral_count=0\n",
        "sagittal_count=0\n",
        "frontal_count=0\n",
        "ap_count=0\n",
        "pa_count=0\n",
        "mammo_mlo_count=0\n",
        "transverse_count=0\n",
        "oblique_count=0\n",
        "mammo_mag_cc_count=0\n",
        "d_reconstruction_count=0\n",
        "for i in df_QA_plane['answers']:\n",
        "  if i=='axial':\n",
        "    axial_count=axial_count+1\n",
        "  elif i=='longitudinal':\n",
        "    longitudinal_count=longitudinal_count+1\n",
        "  elif i=='coronal':\n",
        "    coronal_count=coronal_count+1\n",
        "  elif i=='lateral':\n",
        "    lateral_count=lateral_count+1\n",
        "  elif i=='sagittal':\n",
        "    sagittal_count=sagittal_count+1\n",
        "  elif i=='frontal':\n",
        "    frontal_count=frontal_count+1\n",
        "  elif i=='ap':\n",
        "    ap_count=ap_count+1\n",
        "  elif i=='pa':\n",
        "    pa_count=pa_count+1\n",
        "  elif i=='mammo - mlo':\n",
        "    mammo_mlo_count=mammo_mlo_count+1\n",
        "  elif i=='transverse':\n",
        "    transverse_count=transverse_count+1\n",
        "  elif i=='oblique':\n",
        "    oblique_count=oblique_count+1\n",
        "  elif i=='mammo - mag cc':\n",
        "    mammo_mag_cc_count=mammo_mag_cc_count+1\n",
        "  elif i=='3d reconstruction':\n",
        "    d_reconstruction_count=d_reconstruction_count+1"
      ],
      "execution_count": null,
      "outputs": []
    },
    {
      "cell_type": "code",
      "metadata": {
        "colab": {
          "base_uri": "https://localhost:8080/",
          "height": 414
        },
        "id": "F97Qbeu5A2of",
        "outputId": "c242643a-a0d0-4172-81de-c1679f0c58e4"
      },
      "source": [
        "fig = plt.figure()\n",
        "axis = fig.add_axes([0,0,1,1])\n",
        "type = ['axial','longitudinal','coronal','lateral','sagittal','frontal','ap','pa','mammo - mlo','transverse','oblique','mammo - mag cc','3d reconstruction']\n",
        "value = [axial_count,longitudinal_count,coronal_count,lateral_count,sagittal_count,frontal_count,ap_count,pa_count,mammo_mlo_count,transverse_count,oblique_count,mammo_mag_cc_count,d_reconstruction_count]\n",
        "axis.bar(type,value)\n",
        "plt.xticks(rotation='vertical')\n",
        "plt.show()"
      ],
      "execution_count": null,
      "outputs": [
        {
          "output_type": "display_data",
          "data": {
            "image/png": "[encoded data removed]",
            "text/plain": [
              "<Figure size 432x288 with 1 Axes>"
            ]
          },
          "metadata": {
            "tags": [],
            "needs_background": "light"
          }
        }
      ]
    },
    {
      "cell_type": "markdown",
      "metadata": {
        "id": "I4xITdPwEC3T"
      },
      "source": [
        "##Distribution of modality data"
      ]
    },
    {
      "cell_type": "code",
      "metadata": {
        "id": "pfQtP06rCoxu",
        "colab": {
          "base_uri": "https://localhost:8080/",
          "height": 402
        },
        "outputId": "e3c9dd81-4618-4de4-ae31-6378f4bddb1b"
      },
      "source": [
        "df_QA_modality"
      ],
      "execution_count": null,
      "outputs": [
        {
          "output_type": "execute_result",
          "data": {
            "text/html": [
              "<div>\n",
              "<style scoped>\n",
              "    .dataframe tbody tr th:only-of-type {\n",
              "        vertical-align: middle;\n",
              "    }\n",
              "\n",
              "    .dataframe tbody tr th {\n",
              "        vertical-align: top;\n",
              "    }\n",
              "\n",
              "    .dataframe thead th {\n",
              "        text-align: right;\n",
              "    }\n",
              "</style>\n",
              "<table border=\"1\" class=\"dataframe\">\n",
              "  <thead>\n",
              "    <tr style=\"text-align: right;\">\n",
              "      <th></th>\n",
              "      <th>id</th>\n",
              "      <th>questions</th>\n",
              "      <th>answers</th>\n",
              "    </tr>\n",
              "  </thead>\n",
              "  <tbody>\n",
              "    <tr>\n",
              "      <th>0</th>\n",
              "      <td>synpic41148</td>\n",
              "      <td>what kind of image is this?</td>\n",
              "      <td>cta - ct angiography</td>\n",
              "    </tr>\n",
              "    <tr>\n",
              "      <th>1</th>\n",
              "      <td>synpic43984</td>\n",
              "      <td>is this a t1 weighted image?</td>\n",
              "      <td>no</td>\n",
              "    </tr>\n",
              "    <tr>\n",
              "      <th>2</th>\n",
              "      <td>synpic38930</td>\n",
              "      <td>what type of imaging modality is used to acqui...</td>\n",
              "      <td>us - ultrasound</td>\n",
              "    </tr>\n",
              "    <tr>\n",
              "      <th>3</th>\n",
              "      <td>synpic52143</td>\n",
              "      <td>is this a noncontrast mri?</td>\n",
              "      <td>no</td>\n",
              "    </tr>\n",
              "    <tr>\n",
              "      <th>4</th>\n",
              "      <td>synpic20934</td>\n",
              "      <td>what type of image modality is this?</td>\n",
              "      <td>xr - plain film</td>\n",
              "    </tr>\n",
              "    <tr>\n",
              "      <th>...</th>\n",
              "      <td>...</td>\n",
              "      <td>...</td>\n",
              "      <td>...</td>\n",
              "    </tr>\n",
              "    <tr>\n",
              "      <th>3195</th>\n",
              "      <td>synpic35685</td>\n",
              "      <td>is this a t2 weighted image?</td>\n",
              "      <td>no</td>\n",
              "    </tr>\n",
              "    <tr>\n",
              "      <th>3196</th>\n",
              "      <td>synpic35687</td>\n",
              "      <td>is this a t2 weighted image?</td>\n",
              "      <td>no</td>\n",
              "    </tr>\n",
              "    <tr>\n",
              "      <th>3197</th>\n",
              "      <td>synpic35701</td>\n",
              "      <td>what imaging modality was used to take this im...</td>\n",
              "      <td>mr - t1w - noncontrast</td>\n",
              "    </tr>\n",
              "    <tr>\n",
              "      <th>3198</th>\n",
              "      <td>synpic48036</td>\n",
              "      <td>is this a noncontrast ct?</td>\n",
              "      <td>yes</td>\n",
              "    </tr>\n",
              "    <tr>\n",
              "      <th>3199</th>\n",
              "      <td>synpic54897</td>\n",
              "      <td>is this a ct scan?</td>\n",
              "      <td>no</td>\n",
              "    </tr>\n",
              "  </tbody>\n",
              "</table>\n",
              "<p>3200 rows × 3 columns</p>\n",
              "</div>"
            ],
            "text/plain": [
              "               id  ...                 answers\n",
              "0     synpic41148  ...    cta - ct angiography\n",
              "1     synpic43984  ...                      no\n",
              "2     synpic38930  ...         us - ultrasound\n",
              "3     synpic52143  ...                      no\n",
              "4     synpic20934  ...         xr - plain film\n",
              "...           ...  ...                     ...\n",
              "3195  synpic35685  ...                      no\n",
              "3196  synpic35687  ...                      no\n",
              "3197  synpic35701  ...  mr - t1w - noncontrast\n",
              "3198  synpic48036  ...                     yes\n",
              "3199  synpic54897  ...                      no\n",
              "\n",
              "[3200 rows x 3 columns]"
            ]
          },
          "metadata": {
            "tags": []
          },
          "execution_count": 36
        }
      ]
    },
    {
      "cell_type": "code",
      "metadata": {
        "id": "43OpUJPCCwTz",
        "colab": {
          "base_uri": "https://localhost:8080/"
        },
        "outputId": "d8ecf9ff-d9d8-4e2f-8b44-8be4ff94c829"
      },
      "source": [
        "modality_count = {}\n",
        "for answer in df_QA_modality['answers']:\n",
        "  if modality_count.get(answer) == None:\n",
        "    modality_count[answer] = 1\n",
        "  else:\n",
        "    modality_count[answer] += 1\n",
        "modality_count\n"
      ],
      "execution_count": null,
      "outputs": [
        {
          "output_type": "execute_result",
          "data": {
            "text/plain": [
              "{'an - angiogram': 78,\n",
              " 'bas - barium swallow': 23,\n",
              " 'be - barium enema': 10,\n",
              " 'contrast': 87,\n",
              " 'ct - gi & iv contrast': 11,\n",
              " 'ct - myelogram': 2,\n",
              " 'ct noncontrast': 71,\n",
              " 'ct w/contrast (iv)': 38,\n",
              " 'ct with gi and iv contrast': 13,\n",
              " 'ct with gi contrast': 3,\n",
              " 'ct with iv contrast': 45,\n",
              " 'cta - ct angiography': 45,\n",
              " 'flair': 58,\n",
              " 'gi': 1,\n",
              " 'gi and iv': 12,\n",
              " 'iv': 42,\n",
              " 'mammograph': 24,\n",
              " 'mr - adc map (app diff coeff)': 16,\n",
              " 'mr - dwi diffusion weighted': 30,\n",
              " 'mr - fiesta': 3,\n",
              " 'mr - flair': 78,\n",
              " 'mr - flair w/gd': 3,\n",
              " 'mr - other pulse seq.': 22,\n",
              " 'mr - pdw proton density': 18,\n",
              " 'mr - stir': 5,\n",
              " 'mr - t1w - noncontrast': 32,\n",
              " 'mr - t1w w/gadolinium': 29,\n",
              " 'mr - t1w w/gd (fat suppressed)': 7,\n",
              " 'mr - t2 weighted': 47,\n",
              " 'mr t2* gradient,gre,mpgr,swan,swi': 6,\n",
              " 'mra - mr angiography/venography': 24,\n",
              " 'nm - nuclear medicine': 18,\n",
              " 'no': 631,\n",
              " 'noncontrast': 100,\n",
              " 'pet - positron emission': 3,\n",
              " 'sbft - small bowel': 7,\n",
              " 't1': 131,\n",
              " 't2': 205,\n",
              " 'ugi - upper gi': 14,\n",
              " 'us - ultrasound': 183,\n",
              " 'us-d - doppler ultrasound': 13,\n",
              " 'venogram': 3,\n",
              " 'xr - plain film': 456,\n",
              " 'yes': 553}"
            ]
          },
          "metadata": {
            "tags": []
          },
          "execution_count": 37
        }
      ]
    },
    {
      "cell_type": "code",
      "metadata": {
        "id": "mXeJK55HC4la"
      },
      "source": [
        "compressed_modality_count = {\"AN\": 78, \"BA\": 33, \"CT\": 228, \"GI\": 27, \"IV\": 42, \"Mammograph\": 24, \"MR\": 320, \"PET\": 3, \"SBFT\": 7, \"US\":196, \"Venogram\": 3, \"XR\": 456, \"Flair\": 58, \"Yes/No\": 1184, \"Contrast/Non-contrast\": 187, \"T1/T2\": 336, \"NM\": 18, }\n",
        "modality_categories = list(compressed_modality_count.keys())\n",
        "modality_values = list(compressed_modality_count.values())"
      ],
      "execution_count": null,
      "outputs": []
    },
    {
      "cell_type": "code",
      "metadata": {
        "id": "wLyylRwaC91j",
        "colab": {
          "base_uri": "https://localhost:8080/",
          "height": 297
        },
        "outputId": "1da99af2-1325-4956-d73f-4ffda3a52003"
      },
      "source": [
        "x1 = modality_categories\n",
        "y1 = modality_values\n",
        "\n",
        "plt.bar(x1, y1, label=\"Blue Bar\", color='b')\n",
        "# plt.bar(x2, y2, label=\"Green Bar\", color='g')\n",
        "plt.plot()\n",
        "\n",
        "plt.legend()\n",
        "plt.xticks(rotation=\"vertical\")\n",
        "plt.tight_layout()\n",
        "plt.show()"
      ],
      "execution_count": null,
      "outputs": [
        {
          "output_type": "display_data",
          "data": {
            "image/png": "[encoded data removed]",
            "text/plain": [
              "<Figure size 432x288 with 1 Axes>"
            ]
          },
          "metadata": {
            "tags": [],
            "needs_background": "light"
          }
        }
      ]
    }
  ]
}